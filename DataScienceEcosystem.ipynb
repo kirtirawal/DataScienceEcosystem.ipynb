{
 "cells": [
  {
   "cell_type": "markdown",
   "id": "6403c3c6-d072-4fe2-84c8-69c05673d813",
   "metadata": {
    "tags": []
   },
   "source": [
    "# Data Science Tools and Ecosystem"
   ]
  },
  {
   "cell_type": "markdown",
   "id": "c44caf9f-819e-4e8b-9d43-4bacc1c81523",
   "metadata": {},
   "source": [
    "## In this notebook, Data Science Tools and Ecosystem are summarized."
   ]
  },
  {
   "cell_type": "markdown",
   "id": "94810780-19a5-4de1-9133-31bcbac90466",
   "metadata": {},
   "source": [
    "## Some of the popular languages that Data Scientists use are:"
   ]
  },
  {
   "cell_type": "markdown",
   "id": "330be32e-6803-48ad-8171-5833dd3c46ac",
   "metadata": {},
   "source": [
    "### 1. Python\n",
    "### 2. R \n",
    "### 3. Julia\n",
    "### 4. C++\n",
    "### 5. Java"
   ]
  },
  {
   "cell_type": "markdown",
   "id": "edeea5a1-3332-41cd-9dfa-5fcced1b103c",
   "metadata": {},
   "source": [
    "# Some of the commonly used libraries used by Data Scientists include:"
   ]
  },
  {
   "cell_type": "markdown",
   "id": "13ff122b-2dfa-4066-828f-34293f60d32f",
   "metadata": {},
   "source": [
    "### 1. Pandas\n",
    "### 2. Numpy\n",
    "### 3. Matplotlib\n",
    "### 4. Scipy\n",
    "### 5. Keras"
   ]
  },
  {
   "cell_type": "markdown",
   "id": "506fdcc6-5ed6-4be2-a0ae-88a2687a5035",
   "metadata": {},
   "source": [
    "| Data Science Tools |\n",
    "| ------ |\n",
    "| Jupyter |\n",
    "| R Studio |\n",
    "| SQL |\n",
    "| Hadoop |\n",
    "| Git |\n",
    "|Github |"
   ]
  },
  {
   "cell_type": "markdown",
   "id": "7814c1fa-31cb-4934-9af2-7188941062af",
   "metadata": {},
   "source": [
    "### Below are a few examples of evaluating arithmetic expressions in Python"
   ]
  },
  {
   "cell_type": "code",
   "execution_count": 2,
   "id": "a446369f-4f68-4c16-8753-ce222abed577",
   "metadata": {
    "tags": []
   },
   "outputs": [
    {
     "data": {
      "text/plain": [
       "17"
      ]
     },
     "execution_count": 2,
     "metadata": {},
     "output_type": "execute_result"
    }
   ],
   "source": [
    "(3*4)+5"
   ]
  },
  {
   "cell_type": "code",
   "execution_count": 6,
   "id": "9b292d9a-e791-4250-84c1-e8552ef33a7b",
   "metadata": {
    "tags": []
   },
   "outputs": [
    {
     "name": "stdout",
     "output_type": "stream",
     "text": [
      "3.33\n"
     ]
    }
   ],
   "source": [
    "#This will convert 200 minutes to hours by diving by 60\n",
    "minutes = 200\n",
    "hours = round(200 / 60, 2)\n",
    "print(hours)"
   ]
  },
  {
   "cell_type": "markdown",
   "id": "bd674214-86aa-4698-9c7a-9ad0263d91d6",
   "metadata": {},
   "source": [
    "__Objectives:__"
   ]
  },
  {
   "cell_type": "markdown",
   "id": "db00af15-81fb-4a0a-964e-cba60c870921",
   "metadata": {
    "tags": []
   },
   "source": [
    "- Python, R are the one of most used Languaages in Data Science\n",
    "- We covered the python code to multiply numbers\n",
    "- Data Science Tools provide support to build, develop and test the models.\n",
    "- we explored the usage of Jupyter notebook\n",
    "- Pandas, Numpy, Matplotlib are most commonly used libraries in Data Science"
   ]
  },
  {
   "cell_type": "markdown",
   "id": "63cc3a97-bd38-4216-b876-34db675e82cc",
   "metadata": {},
   "source": [
    "## Author\n",
    "KIRTI RAWAL\n"
   ]
  },
  {
   "cell_type": "code",
   "execution_count": null,
   "id": "22f04c1e-f3e4-4c0d-b8ab-140cc6113089",
   "metadata": {},
   "outputs": [],
   "source": []
  }
 ],
 "metadata": {
  "kernelspec": {
   "display_name": "Python",
   "language": "python",
   "name": "conda-env-python-py"
  },
  "language_info": {
   "codemirror_mode": {
    "name": "ipython",
    "version": 3
   },
   "file_extension": ".py",
   "mimetype": "text/x-python",
   "name": "python",
   "nbconvert_exporter": "python",
   "pygments_lexer": "ipython3",
   "version": "3.7.12"
  }
 },
 "nbformat": 4,
 "nbformat_minor": 5
}
